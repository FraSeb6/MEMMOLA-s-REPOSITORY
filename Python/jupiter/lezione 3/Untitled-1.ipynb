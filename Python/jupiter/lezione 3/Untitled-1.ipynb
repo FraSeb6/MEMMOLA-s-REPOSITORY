{
 "cells": [
  {
   "cell_type": "markdown",
   "metadata": {},
   "source": [
    "a list contain any type of character: string or integers or others (boolean)\n",
    "in the last code we printed the lennth of the list 'items'returnung the lenght of an object of the first item [0] of the list, and then we added anew element of the list"
   ]
  },
  {
   "cell_type": "code",
   "execution_count": null,
   "metadata": {},
   "outputs": [],
   "source": [
    "import sys\n",
    "#use of list\n",
    "items = [1,2,3,4,5,6]\n",
    "print (items)\n",
    "items= ['summer', 'autumn', 'winter']\n",
    "len(items)\n",
    "print(items[0])\n",
    "\n",
    "items.append('spring')\n",
    "sys.exit()\n"
   ]
  },
  {
   "cell_type": "markdown",
   "metadata": {},
   "source": [
    "iteretion for the list "
   ]
  }
 ],
 "metadata": {
  "kernelspec": {
   "display_name": "Python 3",
   "language": "python",
   "name": "python3"
  },
  "language_info": {
   "name": "python",
   "version": "3.11.3"
  }
 },
 "nbformat": 4,
 "nbformat_minor": 2
}
